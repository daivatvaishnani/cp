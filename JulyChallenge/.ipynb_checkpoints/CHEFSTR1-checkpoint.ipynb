{
 "cells": [
  {
   "cell_type": "code",
   "execution_count": 21,
   "metadata": {},
   "outputs": [
    {
     "name": "stdout",
     "output_type": "stream",
     "text": [
      "1\n",
      "6\n",
      "1 6 11 6 10 11\n",
      "4\n",
      "4\n",
      "4\n",
      "3\n",
      "0\n",
      "15\n"
     ]
    }
   ],
   "source": [
    "from functools import reduce\n",
    "t = int(input())\n",
    "for i in range(0,t):\n",
    "    n = int(input())\n",
    "    nums = [int(num) for num in input().split()]\n",
    "    ans = 0\n",
    "    for i in range(0,n-1):\n",
    "        diff = abs(nums[i]-nums[i+1]) - 1\n",
    "        ans += diff\n",
    "    print(ans)"
   ]
  },
  {
   "cell_type": "code",
   "execution_count": null,
   "metadata": {},
   "outputs": [],
   "source": []
  }
 ],
 "metadata": {
  "kernelspec": {
   "display_name": "Python 3",
   "language": "python",
   "name": "python3"
  },
  "language_info": {
   "codemirror_mode": {
    "name": "ipython",
    "version": 3
   },
   "file_extension": ".py",
   "mimetype": "text/x-python",
   "name": "python",
   "nbconvert_exporter": "python",
   "pygments_lexer": "ipython3",
   "version": "3.7.6"
  }
 },
 "nbformat": 4,
 "nbformat_minor": 4
}
